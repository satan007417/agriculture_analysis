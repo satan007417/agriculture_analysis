{
 "cells": [
  {
   "cell_type": "code",
   "execution_count": 21,
   "metadata": {},
   "outputs": [],
   "source": [
    "#導入機器學習linear_model庫\n",
    "from sklearn import linear_model\n",
    "\n",
    "#導入交叉驗證庫\n",
    "from sklearn.model_selection import cross_validate\n",
    "from sklearn.model_selection import train_test_split\n",
    "\n",
    "#導入數值計算庫\n",
    "import numpy as np\n",
    "\n",
    "#導入科學計算庫\n",
    "import pandas as pd\n",
    "\n",
    "#導入圖表庫\n",
    "import matplotlib.pyplot as plt"
   ]
  },
  {
   "cell_type": "code",
   "execution_count": 22,
   "metadata": {},
   "outputs": [
    {
     "data": {
      "text/html": [
       "<div>\n",
       "<style scoped>\n",
       "    .dataframe tbody tr th:only-of-type {\n",
       "        vertical-align: middle;\n",
       "    }\n",
       "\n",
       "    .dataframe tbody tr th {\n",
       "        vertical-align: top;\n",
       "    }\n",
       "\n",
       "    .dataframe thead th {\n",
       "        text-align: right;\n",
       "    }\n",
       "</style>\n",
       "<table border=\"1\" class=\"dataframe\">\n",
       "  <thead>\n",
       "    <tr style=\"text-align: right;\">\n",
       "      <th></th>\n",
       "      <th>date</th>\n",
       "      <th>Harvest_area</th>\n",
       "      <th>Harvest_tons</th>\n",
       "    </tr>\n",
       "  </thead>\n",
       "  <tbody>\n",
       "    <tr>\n",
       "      <th>0</th>\n",
       "      <td>100/01</td>\n",
       "      <td>819</td>\n",
       "      <td>40683</td>\n",
       "    </tr>\n",
       "    <tr>\n",
       "      <th>1</th>\n",
       "      <td>100/02</td>\n",
       "      <td>797</td>\n",
       "      <td>40315</td>\n",
       "    </tr>\n",
       "    <tr>\n",
       "      <th>2</th>\n",
       "      <td>100/03</td>\n",
       "      <td>633</td>\n",
       "      <td>34886</td>\n",
       "    </tr>\n",
       "    <tr>\n",
       "      <th>3</th>\n",
       "      <td>100/04</td>\n",
       "      <td>626</td>\n",
       "      <td>33664</td>\n",
       "    </tr>\n",
       "    <tr>\n",
       "      <th>4</th>\n",
       "      <td>100/05</td>\n",
       "      <td>636</td>\n",
       "      <td>30000</td>\n",
       "    </tr>\n",
       "  </tbody>\n",
       "</table>\n",
       "</div>"
      ],
      "text/plain": [
       "     date  Harvest_area  Harvest_tons\n",
       "0  100/01           819         40683\n",
       "1  100/02           797         40315\n",
       "2  100/03           633         34886\n",
       "3  100/04           626         33664\n",
       "4  100/05           636         30000"
      ]
     },
     "execution_count": 22,
     "metadata": {},
     "output_type": "execute_result"
    }
   ],
   "source": [
    "area_and_tons=pd.DataFrame(pd.read_excel('regression_analysis_data\\甘藍.xlsx'))\n",
    "area_and_tons.head()"
   ]
  },
  {
   "cell_type": "code",
   "execution_count": 23,
   "metadata": {},
   "outputs": [
    {
     "data": {
      "text/plain": [
       "((98, 1), (98,))"
      ]
     },
     "execution_count": 23,
     "metadata": {},
     "output_type": "execute_result"
    }
   ],
   "source": [
    "#自變量X\n",
    "X = np.array(area_and_tons[['Harvest_area']])\n",
    "#因變量Y\n",
    "Y = np.array(area_and_tons['Harvest_tons'])\n",
    "\n",
    "X.shape,Y.shape"
   ]
  },
  {
   "cell_type": "code",
   "execution_count": 24,
   "metadata": {},
   "outputs": [
    {
     "data": {
      "image/png": "[encoded data removed]",
      "text/plain": [
       "<Figure size 432x288 with 1 Axes>"
      ]
     },
     "metadata": {
      "needs_background": "light"
     },
     "output_type": "display_data"
    }
   ],
   "source": [
    "#設置圖表字體為華文細黑，字號15\n",
    "plt.rc('font', family='STXihei', size=15)\n",
    "\n",
    "#繪製散點圖，廣告成本X，點擊量Y，設置顏色，標記點樣式和透明度等參數\n",
    "plt.scatter(X,Y,60,color='blue',marker='o',linewidth=3,alpha=0.8)\n",
    "\n",
    "#添加x軸標題\n",
    "plt.xlabel('area')\n",
    "\n",
    "#添加y軸標題\n",
    "plt.ylabel('tons')\n",
    "\n",
    "#添加圖表標題\n",
    "plt.title('area and tons analyze')\n",
    "\n",
    "#設置背景網格線顏色，樣式，尺寸和透明度\n",
    "plt.grid(color='#95a5a6',linestyle='--', linewidth=1,axis='both',alpha=0.4)\n",
    "\n",
    "#顯示圖表\n",
    "plt.show()"
   ]
  },
  {
   "cell_type": "code",
   "execution_count": 25,
   "metadata": {},
   "outputs": [],
   "source": [
    "#將原始數據通過隨機方式分割為訓練集和測試集，其中測試集占比為20%\n",
    "X_train, X_test, y_train, y_test = train_test_split(X, Y, test_size=0.2, random_state=0)"
   ]
  },
  {
   "cell_type": "code",
   "execution_count": 26,
   "metadata": {},
   "outputs": [
    {
     "data": {
      "text/plain": [
       "((78, 1), (78,))"
      ]
     },
     "execution_count": 26,
     "metadata": {},
     "output_type": "execute_result"
    }
   ],
   "source": [
    "X_train.shape,y_train.shape"
   ]
  },
  {
   "cell_type": "code",
   "execution_count": 28,
   "metadata": {},
   "outputs": [
    {
     "data": {
      "text/plain": [
       "LinearRegression(copy_X=True, fit_intercept=True, n_jobs=None, normalize=False)"
      ]
     },
     "execution_count": 28,
     "metadata": {},
     "output_type": "execute_result"
    }
   ],
   "source": [
    "#將訓練集代入到線性回歸模型中\n",
    "clf = linear_model.LinearRegression()\n",
    "\n",
    "clf.fit (X_train,y_train)"
   ]
  },
  {
   "cell_type": "code",
   "execution_count": 29,
   "metadata": {},
   "outputs": [
    {
     "data": {
      "text/plain": [
       "array([50.67491162])"
      ]
     },
     "execution_count": 29,
     "metadata": {},
     "output_type": "execute_result"
    }
   ],
   "source": [
    "#線性回歸模型的斜率\n",
    "\n",
    "clf.coef_"
   ]
  },
  {
   "cell_type": "code",
   "execution_count": 30,
   "metadata": {},
   "outputs": [
    {
     "data": {
      "text/plain": [
       "942.923553022516"
      ]
     },
     "execution_count": 30,
     "metadata": {},
     "output_type": "execute_result"
    }
   ],
   "source": [
    "#線性回歸模型的截距\n",
    "\n",
    "clf.intercept_"
   ]
  },
  {
   "cell_type": "code",
   "execution_count": 31,
   "metadata": {},
   "outputs": [
    {
     "data": {
      "text/plain": [
       "0.9374440776525015"
      ]
     },
     "execution_count": 31,
     "metadata": {},
     "output_type": "execute_result"
    }
   ],
   "source": [
    "#判定係數R Square\n",
    "\n",
    "clf.score(X_train,y_train)"
   ]
  },
  {
   "cell_type": "code",
   "execution_count": 38,
   "metadata": {},
   "outputs": [
    {
     "data": {
      "text/plain": [
       "array([26381.72918658])"
      ]
     },
     "execution_count": 38,
     "metadata": {},
     "output_type": "execute_result"
    }
   ],
   "source": [
    "#輸入自變量預測因變量\n",
    "\n",
    "clf.predict([[502]])"
   ]
  },
  {
   "cell_type": "code",
   "execution_count": 39,
   "metadata": {},
   "outputs": [
    {
     "data": {
      "text/plain": [
       "[32918.79278563695,\n",
       " 32817.4429623957,\n",
       " 33020.1426088782,\n",
       " 30283.697381364447,\n",
       " 51111.08605744137,\n",
       " 31449.220348638824,\n",
       " 26888.478302782565,\n",
       " 24506.757456613184,\n",
       " 29928.973000020073,\n",
       " 21263.56311289318,\n",
       " 25317.556042543187,\n",
       " 35857.9376596332,\n",
       " 27547.25215385069,\n",
       " 32969.467697257576,\n",
       " 31449.220348638824,\n",
       " 18983.19208996505,\n",
       " 34185.665576152576,\n",
       " 30385.047204605697,\n",
       " 26989.828126023815,\n",
       " 31499.895260259447]"
      ]
     },
     "execution_count": 39,
     "metadata": {},
     "output_type": "execute_result"
    }
   ],
   "source": [
    "#將測試集的自變量代入到模型預測因變量\n",
    "\n",
    "list(clf.predict(X_test))"
   ]
  },
  {
   "cell_type": "code",
   "execution_count": 40,
   "metadata": {},
   "outputs": [
    {
     "data": {
      "text/plain": [
       "104356650.55619854"
      ]
     },
     "execution_count": 40,
     "metadata": {},
     "output_type": "execute_result"
    }
   ],
   "source": [
    "#計算誤差平方和\n",
    "\n",
    "((y_test - clf.predict(X_test)) **2).sum()"
   ]
  },
  {
   "cell_type": "code",
   "execution_count": null,
   "metadata": {},
   "outputs": [],
   "source": [
    "#https://kknews.cc/zh-tw/tech/op2je5.html"
   ]
  },
  {
   "cell_type": "code",
   "execution_count": null,
   "metadata": {},
   "outputs": [],
   "source": []
  }
 ],
 "metadata": {
  "kernelspec": {
   "display_name": "Python 3",
   "language": "python",
   "name": "python3"
  },
  "language_info": {
   "codemirror_mode": {
    "name": "ipython",
    "version": 3
   },
   "file_extension": ".py",
   "mimetype": "text/x-python",
   "name": "python",
   "nbconvert_exporter": "python",
   "pygments_lexer": "ipython3",
   "version": "3.6.7"
  }
 },
 "nbformat": 4,
 "nbformat_minor": 2
}
